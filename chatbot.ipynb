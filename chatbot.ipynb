{
  "nbformat": 4,
  "nbformat_minor": 0,
  "metadata": {
    "colab": {
      "provenance": []
    },
    "kernelspec": {
      "name": "python3",
      "display_name": "Python 3"
    },
    "language_info": {
      "name": "python"
    }
  },
  "cells": [
    {
      "cell_type": "code",
      "execution_count": null,
      "metadata": {
        "id": "prT6C33I1v8D"
      },
      "outputs": [],
      "source": [
        "import random\n",
        "\n",
        "responses = {\n",
        "    \"hi\": \"Hello!\",\n",
        "    \"hello\": \"Hi there!\",\n",
        "    \"how are you?\": \"I'm doing well, thank you!\",\n",
        "    \"what's your name?\": \"I'm just a chatbot.\",\n",
        "    \"bye\": \"Goodbye! Take care.\"\n",
        "}\n",
        "\n",
        "def generate_response(user_input):\n",
        "    user_input = user_input.lower()\n",
        "    if user_input in responses:\n",
        "        return responses[user_input]\n",
        "    else:\n",
        "        return \"Sorry, I didn't understand that.\"\n",
        "\n",
        "def chat():\n",
        "    print(\"Chatbot: Hello! I'm a chatbot. How can I assist you?\")\n",
        "    print(\"Chatbot: Type 'bye' to end the conversation.\")\n",
        "    while True:\n",
        "        user_input = input(\"You: \")\n",
        "        if user_input.lower() == 'bye':\n",
        "            print(\"Chatbot: Goodbye! Have a great day.\")\n",
        "            break\n",
        "        else:\n",
        "            response = generate_response(user_input)\n",
        "            print(\"Chatbot:\", response)"
      ]
    },
    {
      "cell_type": "code",
      "source": [
        "if __name__ == \"__main__\":\n",
        "    chat()"
      ],
      "metadata": {
        "colab": {
          "base_uri": "https://localhost:8080/"
        },
        "id": "28qeUfO41yqh",
        "outputId": "30a73d5e-9788-4e27-b5bb-022cd1410867"
      },
      "execution_count": null,
      "outputs": [
        {
          "output_type": "stream",
          "name": "stdout",
          "text": [
            "Chatbot: Hello! I'm a chatbot. How can I assist you?\n",
            "Chatbot: Type 'bye' to end the conversation.\n",
            "You: hi\n",
            "Chatbot: Hello!\n",
            "You: how are you\n",
            "Chatbot: Sorry, I didn't understand that.\n",
            "You: how are you?\n",
            "Chatbot: I'm doing well, thank you!\n",
            "You: bye\n",
            "Chatbot: Goodbye! Have a great day.\n"
          ]
        }
      ]
    },
    {
      "cell_type": "code",
      "source": [],
      "metadata": {
        "id": "bsnve5WC16C9"
      },
      "execution_count": null,
      "outputs": []
    }
  ]
}